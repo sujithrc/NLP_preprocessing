{
  "nbformat": 4,
  "nbformat_minor": 0,
  "metadata": {
    "colab": {
      "provenance": [],
      "authorship_tag": "ABX9TyOCts951MBS1ao2rAT3C0kw",
      "include_colab_link": true
    },
    "kernelspec": {
      "name": "python3",
      "display_name": "Python 3"
    },
    "language_info": {
      "name": "python"
    }
  },
  "cells": [
    {
      "cell_type": "markdown",
      "metadata": {
        "id": "view-in-github",
        "colab_type": "text"
      },
      "source": [
        "<a href=\"https://colab.research.google.com/github/sujithrc/NLP_preprocessing/blob/main/nlp1_using_tok_sw_stem_limma.ipynb\" target=\"_parent\"><img src=\"https://colab.research.google.com/assets/colab-badge.svg\" alt=\"Open In Colab\"/></a>"
      ]
    },
    {
      "cell_type": "code",
      "execution_count": null,
      "metadata": {
        "colab": {
          "base_uri": "https://localhost:8080/"
        },
        "id": "zB82OQSelBUB",
        "outputId": "b0d564dc-e187-4597-db30-0fe4aca34dc0"
      },
      "outputs": [
        {
          "output_type": "stream",
          "name": "stderr",
          "text": [
            "[nltk_data] Downloading package punkt to /root/nltk_data...\n",
            "[nltk_data]   Unzipping tokenizers/punkt.zip.\n",
            "[nltk_data] Downloading package stopwords to /root/nltk_data...\n",
            "[nltk_data]   Unzipping corpora/stopwords.zip.\n",
            "[nltk_data] Downloading package wordnet to /root/nltk_data...\n"
          ]
        },
        {
          "output_type": "stream",
          "name": "stdout",
          "text": [
            "['actual' 'base' 'better' 'common' 'filtered' 'form' 'good'\n",
            " 'lemmatization' 'nlp' 'often' 'process' 'punctuation' 'reduces' 'result'\n",
            " 'root' 'run' 'running' 'similar' 'splitting' 'stemming' 'stopwords'\n",
            " 'task' 'text' 'tokenization' 'word']\n",
            "[[0.         0.         0.         0.         0.         0.\n",
            "  0.         0.         0.         0.         0.43551105 0.43551105\n",
            "  0.         0.         0.         0.         0.         0.\n",
            "  0.43551105 0.         0.         0.         0.43551105 0.43551105\n",
            "  0.22726773]\n",
            " [0.         0.         0.         0.39928771 0.39928771 0.\n",
            "  0.         0.         0.39928771 0.39928771 0.         0.\n",
            "  0.         0.         0.         0.         0.         0.\n",
            "  0.         0.         0.39928771 0.39928771 0.         0.\n",
            "  0.20836489]\n",
            " [0.         0.38086157 0.         0.         0.         0.38086157\n",
            "  0.         0.         0.         0.         0.         0.\n",
            "  0.38086157 0.         0.38086157 0.38086157 0.38086157 0.\n",
            "  0.         0.30027564 0.         0.         0.         0.\n",
            "  0.19874937]\n",
            " [0.38086157 0.         0.38086157 0.         0.         0.\n",
            "  0.38086157 0.38086157 0.         0.         0.         0.\n",
            "  0.         0.38086157 0.         0.         0.         0.38086157\n",
            "  0.         0.30027564 0.         0.         0.         0.\n",
            "  0.19874937]]\n"
          ]
        }
      ],
      "source": [
        "import nltk\n",
        "from nltk.corpus import stopwords\n",
        "from nltk.stem import PorterStemmer, WordNetLemmatizer\n",
        "from sklearn.feature_extraction.text import TfidfVectorizer\n",
        "\n",
        "# Download NLTK resources\n",
        "nltk.download('punkt')\n",
        "nltk.download('stopwords')\n",
        "nltk.download('wordnet')\n",
        "\n",
        "# Sample text data\n",
        "text_data = [\n",
        "    \"Tokenization is the process of splitting text into words and punctuation.\",\n",
        "    \"Stopwords are common words that are often filtered out in NLP tasks.\",\n",
        "    \"Stemming reduces words to their base or root form, e.g., 'running' to 'run'.\",\n",
        "    \"Lemmatization is similar to stemming but results in actual words, e.g., 'better' to 'good'.\"\n",
        "]\n",
        "\n",
        "# Tokenization\n",
        "tokenized_text = [nltk.word_tokenize(text) for text in text_data]\n",
        "\n",
        "# Stopword removal\n",
        "stop_words = set(stopwords.words('english'))\n",
        "filtered_text = [[word for word in tokens if word.lower() not in stop_words and word.lower() != 'not'] for tokens in tokenized_text]\n",
        "\n",
        "# Stemming\n",
        "stemmer = PorterStemmer()\n",
        "stemmed_text = [[stemmer.stem(word) for word in tokens] for tokens in filtered_text]\n",
        "\n",
        "# Lemmatization\n",
        "lemmatizer = WordNetLemmatizer()\n",
        "lemmatized_text = [[lemmatizer.lemmatize(word) for word in tokens] for tokens in filtered_text]\n",
        "\n",
        "# Convert tokens back to strings for TF-IDF\n",
        "preprocessed_text = [' '.join(tokens) for tokens in lemmatized_text]\n",
        "\n",
        "# TF-IDF Vectorization\n",
        "tfidf_vectorizer = TfidfVectorizer()\n",
        "tfidf_matrix = tfidf_vectorizer.fit_transform(preprocessed_text)\n",
        "\n",
        "# Print the TF-IDF features\n",
        "print(tfidf_vectorizer.get_feature_names_out())\n",
        "print(tfidf_matrix.toarray())\n"
      ]
    },
    {
      "cell_type": "code",
      "source": [
        "import nltk\n",
        "from nltk.corpus import stopwords\n",
        "from nltk.stem import PorterStemmer, WordNetLemmatizer\n",
        "from sklearn.feature_extraction.text import TfidfVectorizer\n",
        "\n",
        "# Download NLTK resources\n",
        "nltk.download('punkt')\n",
        "nltk.download('stopwords')\n",
        "nltk.download('wordnet')\n",
        "\n",
        "# Sample text data\n",
        "text_data = [\n",
        "    \"Tokenization is the process of splitting text into words and punctuation.\",\n",
        "    \"Stopwords are common words that are often filtered out in NLP tasks.\",\n",
        "    \"Stemming reduces words to their base or root form, e.g., 'running' to 'run'.\",\n",
        "    \"Lemmatization is similar to stemming but results in actual words, e.g., 'better' to 'good'.\"\n",
        "]\n",
        "\n",
        "# Tokenization\n",
        "tokenized_text = [nltk.word_tokenize(text) for text in text_data]\n",
        "\n",
        "# Stopword removal\n",
        "stop_words = set(stopwords.words('english'))\n",
        "filtered_text = [[word for word in tokens if word.lower() not in stop_words and word.lower() != 'not'] for tokens in tokenized_text]\n",
        "\n",
        "# Stemming\n",
        "stemmer = PorterStemmer()\n",
        "stemmed_text = [[stemmer.stem(word) for word in tokens] for tokens in filtered_text]\n",
        "\n",
        "# Lemmatization\n",
        "lemmatizer = WordNetLemmatizer()\n",
        "lemmatized_text = [[lemmatizer.lemmatize(word) for word in tokens] for tokens in filtered_text]\n",
        "\n",
        "# Convert tokens back to strings for TF-IDF\n",
        "preprocessed_text = [' '.join(tokens) for tokens in lemmatized_text]\n",
        "\n",
        "# TF-IDF Vectorization with max_features=4\n",
        "tfidf_vectorizer = TfidfVectorizer(max_features=4)\n",
        "tfidf_matrix = tfidf_vectorizer.fit_transform(preprocessed_text)\n",
        "\n",
        "# Print the TF-IDF features\n",
        "print(tfidf_vectorizer.get_feature_names_out())\n",
        "print(tfidf_matrix.toarray())\n"
      ],
      "metadata": {
        "colab": {
          "base_uri": "https://localhost:8080/"
        },
        "id": "dTOzJFILmS4Y",
        "outputId": "bade8b2b-126b-4fcd-9931-7a4025c1ca41"
      },
      "execution_count": null,
      "outputs": [
        {
          "output_type": "stream",
          "name": "stdout",
          "text": [
            "['stemming' 'task' 'text' 'word']\n",
            "[[0.         0.         0.88654763 0.46263733]\n",
            " [0.         0.88654763 0.         0.46263733]\n",
            " [0.83388421 0.         0.         0.55193942]\n",
            " [0.83388421 0.         0.         0.55193942]]\n"
          ]
        },
        {
          "output_type": "stream",
          "name": "stderr",
          "text": [
            "[nltk_data] Downloading package punkt to /root/nltk_data...\n",
            "[nltk_data]   Package punkt is already up-to-date!\n",
            "[nltk_data] Downloading package stopwords to /root/nltk_data...\n",
            "[nltk_data]   Package stopwords is already up-to-date!\n",
            "[nltk_data] Downloading package wordnet to /root/nltk_data...\n",
            "[nltk_data]   Package wordnet is already up-to-date!\n"
          ]
        }
      ]
    }
  ]
}